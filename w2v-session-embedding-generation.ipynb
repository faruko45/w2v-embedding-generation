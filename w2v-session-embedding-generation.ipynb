{
 "cells": [
  {
   "cell_type": "code",
   "execution_count": 1,
   "metadata": {
    "collapsed": true,
    "ExecuteTime": {
     "start_time": "2023-05-06T22:44:11.156124Z",
     "end_time": "2023-05-06T22:44:12.617036Z"
    }
   },
   "outputs": [],
   "source": [
    "import gensim, csv\n",
    "from gensim.models import Word2Vec"
   ]
  },
  {
   "cell_type": "code",
   "execution_count": 2,
   "outputs": [],
   "source": [
    "def get_sessions(csv_file,locale):\n",
    "    ##read all data\n",
    "    data = []\n",
    "    with open(csv_file) as file:\n",
    "        csv_reader = csv.reader(file)\n",
    "        line_count = 0\n",
    "        for row in csv_reader:\n",
    "            if line_count == 0:\n",
    "                line_count += 1\n",
    "            else:\n",
    "                line_count += 1\n",
    "                data.append(row)\n",
    "\n",
    "    ##fetch first and second columns according to locale\n",
    "    first_column, second_column = [], []\n",
    "    for d in data:\n",
    "        if d[2] == locale:\n",
    "            first_column.append(d[0])\n",
    "            second_column.append(d[1])\n",
    "\n",
    "    ##data cleaning\n",
    "    clean_data = []\n",
    "    count = 0\n",
    "    for s in first_column:\n",
    "        temp = s.replace('\\n','').replace('\\'', '').replace('[','').replace(']','')\n",
    "        clean_data.append(temp + ' ' + second_column[count])\n",
    "        count += 1\n",
    "\n",
    "    final_data = []\n",
    "    longest_session = 0\n",
    "    for s in clean_data:\n",
    "        session = s.split(' ')\n",
    "        if len(session) > longest_session:\n",
    "            longest_session = len(session)\n",
    "        final_data.append(session)\n",
    "    print(f'Session count {len(final_data)} for {locale}\\nLongest Session: {longest_session}')\n",
    "    return final_data, longest_session"
   ],
   "metadata": {
    "collapsed": false,
    "ExecuteTime": {
     "start_time": "2023-05-06T22:44:12.624012Z",
     "end_time": "2023-05-06T22:44:12.626023Z"
    }
   }
  },
  {
   "cell_type": "code",
   "execution_count": 4,
   "outputs": [
    {
     "name": "stdout",
     "output_type": "stream",
     "text": [
      "Session count 1182181 for UK\n",
      "Longest Session: 202\n"
     ]
    }
   ],
   "source": [
    "data, window_size = get_sessions('sessions_train.csv', 'UK')"
   ],
   "metadata": {
    "collapsed": false,
    "ExecuteTime": {
     "start_time": "2023-05-06T22:48:00.487667Z",
     "end_time": "2023-05-06T22:48:09.531238Z"
    }
   }
  },
  {
   "cell_type": "code",
   "execution_count": 4,
   "outputs": [
    {
     "data": {
      "text/plain": "['B076THCGSG', 'B007MO8IME', 'B08MF65MLV', 'B001B4TKA0', 'B001B4THSA']"
     },
     "execution_count": 4,
     "metadata": {},
     "output_type": "execute_result"
    }
   ],
   "source": [
    "data[1]"
   ],
   "metadata": {
    "collapsed": false,
    "ExecuteTime": {
     "start_time": "2023-05-02T23:17:11.145397Z",
     "end_time": "2023-05-02T23:17:11.157085Z"
    }
   }
  },
  {
   "cell_type": "code",
   "execution_count": 5,
   "outputs": [],
   "source": [
    "model = gensim.models.Word2Vec(data, min_count = 1,\n",
    "                               vector_size = 100, window = window_size)"
   ],
   "metadata": {
    "collapsed": false,
    "ExecuteTime": {
     "start_time": "2023-05-02T23:17:11.159085Z",
     "end_time": "2023-05-02T23:17:59.474373Z"
    }
   }
  },
  {
   "cell_type": "code",
   "execution_count": 6,
   "outputs": [
    {
     "data": {
      "text/plain": "0.9953116"
     },
     "execution_count": 6,
     "metadata": {},
     "output_type": "execute_result"
    }
   ],
   "source": [
    "model.wv.similarity('B09J5BJWY5', 'B09RBCKHGT') ##same session"
   ],
   "metadata": {
    "collapsed": false,
    "ExecuteTime": {
     "start_time": "2023-05-02T23:17:59.481378Z",
     "end_time": "2023-05-02T23:17:59.484929Z"
    }
   }
  },
  {
   "cell_type": "code",
   "execution_count": 7,
   "outputs": [
    {
     "data": {
      "text/plain": "0.5941169"
     },
     "execution_count": 7,
     "metadata": {},
     "output_type": "execute_result"
    }
   ],
   "source": [
    "model.wv.similarity('B09J5BJWY5', 'B08216CN9M') ##different session"
   ],
   "metadata": {
    "collapsed": false,
    "ExecuteTime": {
     "start_time": "2023-05-02T23:17:59.488448Z",
     "end_time": "2023-05-02T23:17:59.494447Z"
    }
   }
  },
  {
   "cell_type": "code",
   "execution_count": 8,
   "outputs": [
    {
     "data": {
      "text/plain": "array([[-0.12667188, -0.02330631,  0.11610815, ..., -0.09909143,\n        -0.10655276,  0.03280883],\n       [-0.12999532, -0.02813053,  0.11438186, ..., -0.09481126,\n        -0.11178897,  0.02810586],\n       [-0.11471307,  0.16303526,  0.0033865 , ..., -0.10631079,\n         0.0855776 ,  0.07494751],\n       ...,\n       [-0.1692437 ,  0.17409864,  0.03720684, ..., -0.16036853,\n        -0.03783623,  0.16748862],\n       [-0.15428591,  0.22190538,  0.04678252, ..., -0.18357384,\n        -0.05192861,  0.12976676],\n       [ 0.02363468,  0.13875283, -0.11177699, ..., -0.06459539,\n         0.01489896,  0.04458135]], dtype=float32)"
     },
     "execution_count": 8,
     "metadata": {},
     "output_type": "execute_result"
    }
   ],
   "source": [
    "model.wv.get_normed_vectors()"
   ],
   "metadata": {
    "collapsed": false,
    "ExecuteTime": {
     "start_time": "2023-05-02T23:17:59.496446Z",
     "end_time": "2023-05-02T23:17:59.674149Z"
    }
   }
  },
  {
   "cell_type": "code",
   "execution_count": 9,
   "outputs": [
    {
     "data": {
      "text/plain": "513811"
     },
     "execution_count": 9,
     "metadata": {},
     "output_type": "execute_result"
    }
   ],
   "source": [
    "len(model.wv.key_to_index.keys())"
   ],
   "metadata": {
    "collapsed": false,
    "ExecuteTime": {
     "start_time": "2023-05-02T23:17:59.674149Z",
     "end_time": "2023-05-02T23:17:59.678026Z"
    }
   }
  },
  {
   "cell_type": "code",
   "execution_count": null,
   "outputs": [],
   "source": [],
   "metadata": {
    "collapsed": false
   }
  }
 ],
 "metadata": {
  "kernelspec": {
   "display_name": "Python 3",
   "language": "python",
   "name": "python3"
  },
  "language_info": {
   "codemirror_mode": {
    "name": "ipython",
    "version": 2
   },
   "file_extension": ".py",
   "mimetype": "text/x-python",
   "name": "python",
   "nbconvert_exporter": "python",
   "pygments_lexer": "ipython2",
   "version": "2.7.6"
  }
 },
 "nbformat": 4,
 "nbformat_minor": 0
}
