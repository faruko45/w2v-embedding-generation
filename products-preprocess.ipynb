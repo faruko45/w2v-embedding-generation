{
 "cells": [
  {
   "cell_type": "code",
   "execution_count": 1,
   "outputs": [],
   "source": [
    "from nltk.tokenize import word_tokenize\n",
    "import warnings"
   ],
   "metadata": {
    "collapsed": false,
    "ExecuteTime": {
     "start_time": "2023-05-06T22:58:46.149784Z",
     "end_time": "2023-05-06T22:58:47.687933Z"
    }
   }
  },
  {
   "cell_type": "code",
   "execution_count": 2,
   "outputs": [],
   "source": [
    "warnings.filterwarnings(action = 'ignore')"
   ],
   "metadata": {
    "collapsed": false,
    "ExecuteTime": {
     "start_time": "2023-05-06T22:58:47.689936Z",
     "end_time": "2023-05-06T22:58:47.692611Z"
    }
   }
  },
  {
   "cell_type": "code",
   "execution_count": 3,
   "outputs": [],
   "source": [
    "import os, re\n",
    "import pandas as pd"
   ],
   "metadata": {
    "collapsed": false,
    "ExecuteTime": {
     "start_time": "2023-05-06T22:58:47.694610Z",
     "end_time": "2023-05-06T22:58:48.374349Z"
    }
   }
  },
  {
   "cell_type": "code",
   "execution_count": 4,
   "outputs": [],
   "source": [
    "def get_products(csv_file,locale):\n",
    "    products = pd.read_csv(os.path.join('.', csv_file)).query(f'locale == \"{locale}\"')\n",
    "\n",
    "    p_ids, titles, descs = [],[],[]\n",
    "    for p_id in products.id:\n",
    "        p_ids.append(p_id)\n",
    "    for title in products.title:\n",
    "        titles.append(title)\n",
    "    for desc in products.desc:\n",
    "        descs.append(desc)\n",
    "\n",
    "    language_regex = ''\n",
    "    match locale:\n",
    "        case 'UK':\n",
    "            language_regex = r\"[^a-zA-Z0-9 '.]+\"\n",
    "        case 'DE':\n",
    "            language_regex = r\"[^a-zA-Z0-9 äöüÄÖÜß'.]+\"\n",
    "        case 'JP':\n",
    "            language_regex = r\"\"\n",
    "        case 'ES':\n",
    "            language_regex = r\"\"\n",
    "        case 'FR':\n",
    "            language_regex = r\"\"\n",
    "        case 'IT':\n",
    "            language_regex = r\"\"\n",
    "\n",
    "    clean_descs = []\n",
    "    for desc in descs:\n",
    "        if pd.isna(desc):\n",
    "            desc = ''\n",
    "        desc = re.sub(language_regex, \"\", desc)\n",
    "        clean_desc = []\n",
    "        for word in word_tokenize(desc):\n",
    "            clean_desc.append(word.lower())\n",
    "        clean_descs.append(clean_desc)\n",
    "\n",
    "    clean_titles = []\n",
    "    for title in titles:\n",
    "        if pd.isna(title):\n",
    "            title = ''\n",
    "        title = re.sub(language_regex, \"\", title)\n",
    "        clean_title = []\n",
    "        for word in word_tokenize(title):\n",
    "            clean_title.append(word.lower())\n",
    "        clean_titles.append(clean_title)\n",
    "\n",
    "    return pd.DataFrame(data = {'id': p_ids, 'title': clean_titles, 'desc': clean_descs})"
   ],
   "metadata": {
    "collapsed": false,
    "ExecuteTime": {
     "start_time": "2023-05-06T22:58:48.380349Z",
     "end_time": "2023-05-06T22:58:48.382993Z"
    }
   }
  },
  {
   "cell_type": "code",
   "execution_count": 5,
   "outputs": [],
   "source": [
    "ps = get_products('products_train.csv', 'FR')"
   ],
   "metadata": {
    "collapsed": false,
    "ExecuteTime": {
     "start_time": "2023-05-06T22:58:48.386012Z",
     "end_time": "2023-05-06T22:59:14.616509Z"
    }
   }
  },
  {
   "cell_type": "code",
   "execution_count": 6,
   "outputs": [
    {
     "name": "stdout",
     "output_type": "stream",
     "text": [
      "0        [coolreall, batterie, externe, 10000mah, ,, sl...\n",
      "1        [tatouage, halloween, ,, 6, pièces, le, jour, ...\n",
      "2        [tomy, ricky, zoom, -, lumières, et, sons, ric...\n",
      "3        [playmobil, 9318, aventure, au, camping, -, fa...\n",
      "4        [lecteur, mp3, bluetooth, 5.0, ,, mechen, 2.4,...\n",
      "                               ...                        \n",
      "44572    [écouteurs, bose, sport, earbuds, -, écouteurs...\n",
      "44573    [the, ordinary, solution, de, caféine, 5, %, +...\n",
      "44574    [2022, antenne, tv, intérieur, puissante, ,, f...\n",
      "44575    [matelas, 90, x, 190, cm, hauteur, 14, cm, wat...\n",
      "44576    [piste, de, voiture, jouet, enfant, 3, ans, de...\n",
      "Name: title, Length: 44577, dtype: object\n"
     ]
    }
   ],
   "source": [
    "print(ps.title)"
   ],
   "metadata": {
    "collapsed": false,
    "ExecuteTime": {
     "start_time": "2023-05-06T22:59:14.622525Z",
     "end_time": "2023-05-06T22:59:14.627252Z"
    }
   }
  },
  {
   "cell_type": "code",
   "execution_count": 7,
   "outputs": [
    {
     "name": "stdout",
     "output_type": "stream",
     "text": [
      "0        [✔avantage, de, sécurité, fiable, :, la, coque...\n",
      "1        [※, facile, à, utiliser, et, à, enlever, :, fa...\n",
      "2        [collectez-les, tous, :, cette, gamme, de, jou...\n",
      "3        [avec, trois, personnages, ,, un, camping-car,...\n",
      "4        [【excellent, service, client】, retour, incondi...\n",
      "                               ...                        \n",
      "44572    [commandes, tactiles, simples, :, plus, besoin...\n",
      "44573                                                   []\n",
      "44574    [✅【amplificateur, de, signal, et, téléviseur, ...\n",
      "44575    [couche, en, waterfoam, hypoallergénique, et, ...\n",
      "44576    [✅sûr, et, respectueux, de, l'environnement, :...\n",
      "Name: desc, Length: 44577, dtype: object\n"
     ]
    }
   ],
   "source": [
    "print(ps.desc)"
   ],
   "metadata": {
    "collapsed": false,
    "ExecuteTime": {
     "start_time": "2023-05-06T22:59:14.631253Z",
     "end_time": "2023-05-06T22:59:14.636140Z"
    }
   }
  },
  {
   "cell_type": "code",
   "execution_count": null,
   "outputs": [],
   "source": [],
   "metadata": {
    "collapsed": false
   }
  }
 ],
 "metadata": {
  "kernelspec": {
   "display_name": "Python 3 (ipykernel)",
   "language": "python",
   "name": "python3"
  },
  "language_info": {
   "codemirror_mode": {
    "name": "ipython",
    "version": 3
   },
   "file_extension": ".py",
   "mimetype": "text/x-python",
   "name": "python",
   "nbconvert_exporter": "python",
   "pygments_lexer": "ipython3",
   "version": "3.11.3"
  }
 },
 "nbformat": 4,
 "nbformat_minor": 4
}
